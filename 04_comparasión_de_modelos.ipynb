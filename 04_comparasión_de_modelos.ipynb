{
 "cells": [
  {
   "cell_type": "code",
   "execution_count": 1,
   "metadata": {
    "slideshow": {
     "slide_type": "skip"
    }
   },
   "outputs": [],
   "source": [
    "import numpy as np\n",
    "import matplotlib.pyplot as plt\n",
    "from scipy import stats\n",
    "import pandas as pd\n",
    "import pymc3 as pm\n",
    "import arviz as az"
   ]
  },
  {
   "cell_type": "code",
   "execution_count": 2,
   "metadata": {
    "slideshow": {
     "slide_type": "skip"
    }
   },
   "outputs": [],
   "source": [
    "az.style.use('arviz-darkgrid')"
   ]
  },
  {
   "cell_type": "code",
   "execution_count": 3,
   "metadata": {
    "slideshow": {
     "slide_type": "skip"
    }
   },
   "outputs": [
    {
     "data": {
      "text/html": [
       "<style>\n",
       "\n",
       ".CodeMirror {\n",
       "    width: 100vw;\n",
       "}\n",
       "\n",
       ".container {\n",
       "    width: 99% !important;\n",
       "}\n",
       "\n",
       ".rendered_html {\n",
       "  font-size:0.8em;\n",
       "}\n",
       ".rendered_html table, .rendered_html th, .rendered_html tr, .rendered_html td {\n",
       "     font-size: 100%;\n",
       "}\n",
       "\n",
       "\n",
       "body {\n",
       "  font-family: Ubuntu;\n",
       "  background: #F0F0F0;\n",
       "  background-color: #F0F0F0;\n",
       "}\n",
       "\n",
       "\n",
       ".reveal h1,\n",
       ".reveal h2,\n",
       ".reveal h3,\n",
       ".reveal h4,\n",
       ".reveal h5,\n",
       ".reveal h6 {\n",
       "  margin: 0 0 20px 0;\n",
       "  color: #2a2eec;\n",
       "  font-family: Ubuntu;\n",
       "  line-height: 0.9em;\n",
       "  letter-spacing: 0.02em;\n",
       "  text-transform: none;\n",
       "  text-shadow: none;\n",
       "}\n",
       "\n",
       ".reveal blockquote {\n",
       "  display: block;\n",
       "  position: relative;\n",
       "  background: #fa7c17;\n",
       "  border-radius: 15px;\n",
       "  box-shadow: 0px 0px 2px rgba(0, 0, 0, 0.2);\n",
       "  font-weight: bold;\n",
       "}\n",
       "\n",
       "</style>\n"
      ],
      "text/plain": [
       "<IPython.core.display.HTML object>"
      ]
     },
     "metadata": {},
     "output_type": "display_data"
    }
   ],
   "source": [
    "%%HTML\n",
    "<style>\n",
    "\n",
    ".CodeMirror {\n",
    "    width: 100vw;\n",
    "}\n",
    "\n",
    ".container {\n",
    "    width: 99% !important;\n",
    "}\n",
    "\n",
    ".rendered_html {\n",
    "  font-size:0.8em;\n",
    "}\n",
    ".rendered_html table, .rendered_html th, .rendered_html tr, .rendered_html td {\n",
    "     font-size: 100%;\n",
    "}\n",
    "\n",
    "\n",
    "body {\n",
    "  font-family: Ubuntu;\n",
    "  background: #F0F0F0;\n",
    "  background-color: #F0F0F0;\n",
    "}\n",
    "\n",
    "\n",
    ".reveal h1,\n",
    ".reveal h2,\n",
    ".reveal h3,\n",
    ".reveal h4,\n",
    ".reveal h5,\n",
    ".reveal h6 {\n",
    "  margin: 0 0 20px 0;\n",
    "  color: #2a2eec;\n",
    "  font-family: Ubuntu;\n",
    "  line-height: 0.9em;\n",
    "  letter-spacing: 0.02em;\n",
    "  text-transform: none;\n",
    "  text-shadow: none;\n",
    "}\n",
    "\n",
    ".reveal blockquote {\n",
    "  display: block;\n",
    "  position: relative;\n",
    "  background: #fa7c17;\n",
    "  border-radius: 15px;\n",
    "  box-shadow: 0px 0px 2px rgba(0, 0, 0, 0.2);\n",
    "  font-weight: bold;\n",
    "}\n",
    "\n",
    "</style>"
   ]
  },
  {
   "cell_type": "code",
   "execution_count": 4,
   "metadata": {
    "slideshow": {
     "slide_type": "skip"
    }
   },
   "outputs": [],
   "source": [
    "from traitlets.config.manager import BaseJSONConfigManager\n",
    "path = \"/home/osvaldo/anaconda3/etc/jupyter/nbconfig\"\n",
    "cm = BaseJSONConfigManager(config_dir=path)\n",
    "cm.update(\"livereveal\", {\n",
    "              \"theme\": \"serif\",\n",
    "              \"transition\": \"zoom\",\n",
    "              \"start_slideshow_at\": \"selected\",\n",
    "              \"controls\": \"True\",\n",
    "              \"progress\": \"False\",\n",
    "              \"shortcut\": \"False\",});\n"
   ]
  },
  {
   "cell_type": "markdown",
   "metadata": {
    "slideshow": {
     "slide_type": "slide"
    }
   },
   "source": [
    "<center><img src=\"img/logo_inst.png\" width=\"700\">\n",
    "<br>\n",
    "<br>\n",
    "<br>\n",
    "<br>\n",
    "<h1 align=\"center\">Análisis Explotario de modelos Bayesianos</h1> \n",
    "<h2 align=\"center\">Comparasión de modelos</h2>\n",
    "\n",
    "\n",
    "\n",
    "<br>\n",
    "<br>\n",
    "<br>\n",
    "<br>\n",
    "<br>"
   ]
  },
  {
   "cell_type": "markdown",
   "metadata": {
    "slideshow": {
     "slide_type": "slide"
    }
   },
   "source": [
    "# ArviZ: Análisis exploratorio de datos\n",
    "\n",
    "<br>\n",
    "<br>\n",
    "<center><img src=\"img/logo_arviz.png\" width=400></center>\n",
    "<br>\n",
    "\n",
    "\n",
    "* <font color = \"gray\"> Diagnosticar la calidad de la inferencia </font>\n",
    "* <font color = \"gray\"> Criticar a los modelos, incluyendo la evaluación de los supuestos del modelo y de sus predicciones </font>\n",
    "* Comparación de modelos, incluyendo la selección y promediado de modelos\n",
    "* <font color = \"gray\"> Preparar los resultados para una audiencia particular</font>"
   ]
  },
  {
   "cell_type": "markdown",
   "metadata": {
    "slideshow": {
     "slide_type": "slide"
    }
   },
   "source": [
    "## Medidas de exactitud predictiva\n",
    "\n",
    "* **exactitud dentro de la muestra**: La exactitud de un modelo medida con datos usados para ajustar ese modelo\n",
    "\n",
    "* **exactitud fuera de la muestra**: La exactitud de un modelo medida con datos NO usados para ajustar ese modelo (también llamada exactitud predictiva)\n",
    "\n",
    "* Para cualquier combinación de datos y modelos la exactitud dentro de la muestra será, en promedio, menor que la exactitud fuera de la muestra.\n",
    "\n",
    "* Usar la exactitud dentro de la muestra conducirnos a pensar que tenemos un modelo con mejor capacidad de generalizar que la _real_.\n",
    "\n",
    "* Usar la exactitud fuera de la muestra tiene el inconveniente de necesitar dejar datos de lado durante el ajuste (lo que aumenta la incertidumbre sobre los valores de los parámetros obtenidos)\n",
    "\n",
    "* Alternativas:\n",
    "    * Validad cruzada: Una estrategia basada en dividir los datos disponibles en subconjuntos que son usados para ajustar y luego evaluar el modelo de forma alternada. \n",
    "    * Criterios de Información: Familia de métodos para estimar la exactitud predictiva a partir de la exactitud dentro de la muestra"
   ]
  },
  {
   "cell_type": "markdown",
   "metadata": {
    "slideshow": {
     "slide_type": "slide"
    }
   },
   "source": [
    "## Criterio de información de Akaike (AIC del inglés Akaike Information Criterion)\n",
    "\n",
    "* Este es uno de los CI más populares. Y se define como:\n",
    "\n",
    "$$AIC = -2 \\sum_{i=1}^{n} \\log p(y_i \\mid \\hat{\\theta}_{emv}) + 2 pAIC $$\n",
    "\n",
    "\n",
    "* Donde $\\hat{\\theta}_{emv}$ es una estimación puntual obtenida al maximizar la verosimilitud.\n",
    "\n",
    "* El primer término tiene en cuenta la bondad del ajuste del modelo, mientras que el segundo término penaliza la complejidad del modelo\n",
    "\n",
    "* La razón de la penalización es que en principio siempre es posible crear un modelo más complejo (o con más parámetros) que logre un mayor ajuste (mayor $\\hat{\\theta}_{emv}$)."
   ]
  },
  {
   "cell_type": "markdown",
   "metadata": {
    "slideshow": {
     "slide_type": "slide"
    }
   },
   "source": [
    "## Criterio de información de Akaike\n",
    "\n",
    "<br>\n",
    "\n",
    "* No es un buen método para modelos Bayesianos\n",
    "\n",
    "* Usa $\\hat{\\theta}_{emv}$ en vez de la distribución a posteriori de $\\theta$\n",
    "\n",
    "* Asume que un modelo con más parámetros es más complejo, esto no es cierto para modelos jerárquicos o modelos con priors regularizadores o informativos.\n",
    "\n",
    "* Solo es una buena aproximación cuando el posterior es aproximadamente Gaussiano."
   ]
  },
  {
   "cell_type": "markdown",
   "metadata": {
    "slideshow": {
     "slide_type": "slide"
    }
   },
   "source": [
    "## Criterio de información ampliamente aplicable (WAIC del inglés widely applicable information criterion)\n",
    "\n",
    "* Se puede pensar como la versión Bayesiana de AIC. \n",
    "\n",
    "* Tal como AIC, WAIC tiene términos, uno que mide la bondad del ajuste y el otro que penaliza la complejidad del modelo:\n",
    "\n",
    "$$ WAIC = -2 \\sum_i^n \\log\\left(\\frac{1}{S} \\sum_{s=1}^s p(y_i \\mid \\theta^s) \\right) + 2 \\sum_i^n \\left( \\mathop{V}_{s=1}^{S} (\\log p(y_i \\mid \\theta^s) \\right)$$ \n",
    "\n",
    "* Sin entrar en detalles del como surgen estos términos, podemos ver que:\n",
    "    * Ambos términos utilizan todo el posterior (se suma sobre las $S$ muestras)\n",
    "    * Ambos términos utilizan cada una de las observaciones (se suma sobre las $n$ observaciones)\n",
    "\n",
    "* Desde un punto de vista práctico mientras más pequeño el valor de WAIC _mejor_ será el modelo"
   ]
  },
  {
   "cell_type": "markdown",
   "metadata": {
    "slideshow": {
     "slide_type": "slide"
    }
   },
   "source": [
    "## Milk from primates\n",
    "\n",
    "* We want to explore the composition of milk across several primate species.\n",
    "\n",
    "* It is hypothesized that females from species of primates with larger brains produce more _nutritious_ milk\n",
    "\n",
    "* We will use 3 variables\n",
    "    * The proportion of neocortex compare to the total mass of the brain\n",
    "    * the logarithm of the body mass of the mothers\n",
    "    * The kilocalories per gram of milk (predicted variable)\n",
    "    \n",
    "* We will fit 3 different linear models:\n",
    "    1. A model using only the neocortex variable\n",
    "    2. A model using only the logarithm of the mass variable\n",
    "    3. A model using both variables\n",
    "\n",
    "[Statistical Rethinking](http://xcelab.net/rm/statistical-rethinking/)"
   ]
  },
  {
   "cell_type": "code",
   "execution_count": 5,
   "metadata": {
    "slideshow": {
     "slide_type": "slide"
    }
   },
   "outputs": [
    {
     "data": {
      "text/html": [
       "<div>\n",
       "<style scoped>\n",
       "    .dataframe tbody tr th:only-of-type {\n",
       "        vertical-align: middle;\n",
       "    }\n",
       "\n",
       "    .dataframe tbody tr th {\n",
       "        vertical-align: top;\n",
       "    }\n",
       "\n",
       "    .dataframe thead th {\n",
       "        text-align: right;\n",
       "    }\n",
       "</style>\n",
       "<table border=\"1\" class=\"dataframe\">\n",
       "  <thead>\n",
       "    <tr style=\"text-align: right;\">\n",
       "      <th></th>\n",
       "      <th>kcal.per.g</th>\n",
       "      <th>neocortex</th>\n",
       "      <th>log_mass</th>\n",
       "    </tr>\n",
       "  </thead>\n",
       "  <tbody>\n",
       "    <tr>\n",
       "      <th>0</th>\n",
       "      <td>0.49</td>\n",
       "      <td>-0.123706</td>\n",
       "      <td>-0.831353</td>\n",
       "    </tr>\n",
       "    <tr>\n",
       "      <th>1</th>\n",
       "      <td>0.47</td>\n",
       "      <td>-0.030706</td>\n",
       "      <td>0.158647</td>\n",
       "    </tr>\n",
       "    <tr>\n",
       "      <th>2</th>\n",
       "      <td>0.56</td>\n",
       "      <td>-0.030706</td>\n",
       "      <td>0.181647</td>\n",
       "    </tr>\n",
       "    <tr>\n",
       "      <th>3</th>\n",
       "      <td>0.89</td>\n",
       "      <td>0.000294</td>\n",
       "      <td>-0.579353</td>\n",
       "    </tr>\n",
       "    <tr>\n",
       "      <th>4</th>\n",
       "      <td>0.92</td>\n",
       "      <td>0.012294</td>\n",
       "      <td>-1.885353</td>\n",
       "    </tr>\n",
       "  </tbody>\n",
       "</table>\n",
       "</div>"
      ],
      "text/plain": [
       "   kcal.per.g  neocortex  log_mass\n",
       "0        0.49  -0.123706 -0.831353\n",
       "1        0.47  -0.030706  0.158647\n",
       "2        0.56  -0.030706  0.181647\n",
       "3        0.89   0.000294 -0.579353\n",
       "4        0.92   0.012294 -1.885353"
      ]
     },
     "execution_count": 5,
     "metadata": {},
     "output_type": "execute_result"
    }
   ],
   "source": [
    "d = pd.read_csv('datos/milk.csv')\n",
    "d.iloc[:,1:] = d.iloc[:,1:] - d.iloc[:,1:].mean()\n",
    "d.head()"
   ]
  },
  {
   "cell_type": "code",
   "execution_count": 6,
   "metadata": {
    "slideshow": {
     "slide_type": "slide"
    }
   },
   "outputs": [
    {
     "name": "stderr",
     "output_type": "stream",
     "text": [
      "Auto-assigning NUTS sampler...\n",
      "Initializing NUTS using jitter+adapt_diag...\n",
      "Multiprocess sampling (2 chains in 2 jobs)\n",
      "NUTS: [sigma, beta, alpha]\n"
     ]
    },
    {
     "data": {
      "text/html": [
       "\n",
       "    <div>\n",
       "        <style>\n",
       "            /* Turns off some styling */\n",
       "            progress {\n",
       "                /* gets rid of default border in Firefox and Opera. */\n",
       "                border: none;\n",
       "                /* Needs to be in here for Safari polyfill so background images work as expected. */\n",
       "                background-size: auto;\n",
       "            }\n",
       "            .progress-bar-interrupted, .progress-bar-interrupted::-webkit-progress-bar {\n",
       "                background: #F44336;\n",
       "            }\n",
       "        </style>\n",
       "      <progress value='5000' class='' max='5000', style='width:300px; height:20px; vertical-align: middle;'></progress>\n",
       "      100.00% [5000/5000 00:03<00:00 Sampling 2 chains, 0 divergences]\n",
       "    </div>\n",
       "    "
      ],
      "text/plain": [
       "<IPython.core.display.HTML object>"
      ]
     },
     "metadata": {},
     "output_type": "display_data"
    },
    {
     "name": "stderr",
     "output_type": "stream",
     "text": [
      "The acceptance probability does not match the target. It is 0.892165248335771, but should be close to 0.8. Try to increase the number of tuning steps.\n"
     ]
    }
   ],
   "source": [
    "with pm.Model() as model_0:\n",
    "    alpha = pm.Normal('alpha', mu=0, sigma=10)\n",
    "    beta = pm.Normal('beta', mu=0, sigma=1)\n",
    "    sigma = pm.HalfNormal('sigma', 10)\n",
    "    \n",
    "    mu = alpha + beta * d['neocortex']\n",
    "    \n",
    "    kcal = pm.Normal('kcal', mu=mu, sigma=sigma, observed=d['kcal.per.g'])\n",
    "    trace_0 = pm.sample(2000)"
   ]
  },
  {
   "cell_type": "code",
   "execution_count": 7,
   "metadata": {
    "slideshow": {
     "slide_type": "slide"
    }
   },
   "outputs": [
    {
     "name": "stderr",
     "output_type": "stream",
     "text": [
      "Auto-assigning NUTS sampler...\n",
      "Initializing NUTS using jitter+adapt_diag...\n",
      "Multiprocess sampling (2 chains in 2 jobs)\n",
      "NUTS: [sigma, beta, alpha]\n"
     ]
    },
    {
     "data": {
      "text/html": [
       "\n",
       "    <div>\n",
       "        <style>\n",
       "            /* Turns off some styling */\n",
       "            progress {\n",
       "                /* gets rid of default border in Firefox and Opera. */\n",
       "                border: none;\n",
       "                /* Needs to be in here for Safari polyfill so background images work as expected. */\n",
       "                background-size: auto;\n",
       "            }\n",
       "            .progress-bar-interrupted, .progress-bar-interrupted::-webkit-progress-bar {\n",
       "                background: #F44336;\n",
       "            }\n",
       "        </style>\n",
       "      <progress value='5000' class='' max='5000', style='width:300px; height:20px; vertical-align: middle;'></progress>\n",
       "      100.00% [5000/5000 00:02<00:00 Sampling 2 chains, 0 divergences]\n",
       "    </div>\n",
       "    "
      ],
      "text/plain": [
       "<IPython.core.display.HTML object>"
      ]
     },
     "metadata": {},
     "output_type": "display_data"
    },
    {
     "name": "stderr",
     "output_type": "stream",
     "text": [
      "The acceptance probability does not match the target. It is 0.8792955675050164, but should be close to 0.8. Try to increase the number of tuning steps.\n"
     ]
    }
   ],
   "source": [
    "with pm.Model() as model_1:\n",
    "    alpha = pm.Normal('alpha', mu=0, sigma=10)\n",
    "    beta = pm.Normal('beta', mu=0, sigma=1)\n",
    "    sigma = pm.HalfNormal('sigma', 10)\n",
    "    \n",
    "    mu = alpha + beta * d['log_mass']\n",
    "    \n",
    "    kcal = pm.Normal('kcal', mu=mu, sigma=sigma, observed=d['kcal.per.g'])\n",
    "    \n",
    "    trace_1 = pm.sample(2000)"
   ]
  },
  {
   "cell_type": "code",
   "execution_count": 8,
   "metadata": {
    "slideshow": {
     "slide_type": "slide"
    }
   },
   "outputs": [
    {
     "name": "stderr",
     "output_type": "stream",
     "text": [
      "Auto-assigning NUTS sampler...\n",
      "Initializing NUTS using jitter+adapt_diag...\n",
      "Multiprocess sampling (2 chains in 2 jobs)\n",
      "NUTS: [sigma, beta, alpha]\n"
     ]
    },
    {
     "data": {
      "text/html": [
       "\n",
       "    <div>\n",
       "        <style>\n",
       "            /* Turns off some styling */\n",
       "            progress {\n",
       "                /* gets rid of default border in Firefox and Opera. */\n",
       "                border: none;\n",
       "                /* Needs to be in here for Safari polyfill so background images work as expected. */\n",
       "                background-size: auto;\n",
       "            }\n",
       "            .progress-bar-interrupted, .progress-bar-interrupted::-webkit-progress-bar {\n",
       "                background: #F44336;\n",
       "            }\n",
       "        </style>\n",
       "      <progress value='5000' class='' max='5000', style='width:300px; height:20px; vertical-align: middle;'></progress>\n",
       "      100.00% [5000/5000 00:04<00:00 Sampling 2 chains, 0 divergences]\n",
       "    </div>\n",
       "    "
      ],
      "text/plain": [
       "<IPython.core.display.HTML object>"
      ]
     },
     "metadata": {},
     "output_type": "display_data"
    }
   ],
   "source": [
    "with pm.Model() as model_2:\n",
    "    alpha = pm.Normal('alpha', mu=0, sigma=10)\n",
    "    beta = pm.Normal('beta', mu=0, sigma=1, shape=2)\n",
    "    sigma = pm.HalfNormal('sigma', 10)\n",
    "\n",
    "    mu = alpha + pm.math.dot(beta, d[['neocortex','log_mass']].T)\n",
    "\n",
    "    kcal = pm.Normal('kcal', mu=mu, sigma=sigma, observed=d['kcal.per.g'])\n",
    "\n",
    "    trace_2 = pm.sample(2000)"
   ]
  },
  {
   "cell_type": "code",
   "execution_count": 9,
   "metadata": {
    "slideshow": {
     "slide_type": "slide"
    }
   },
   "outputs": [
    {
     "data": {
      "image/png": "[encoded data removed]",
      "text/plain": [
       "<Figure size 1000x500 with 1 Axes>"
      ]
     },
     "metadata": {},
     "output_type": "display_data"
    }
   ],
   "source": [
    "traces = [trace_0, trace_1, trace_2]\n",
    "az.plot_forest(traces, figsize=(10, 5));"
   ]
  },
  {
   "cell_type": "code",
   "execution_count": 10,
   "metadata": {
    "slideshow": {
     "slide_type": "slide"
    }
   },
   "outputs": [
    {
     "name": "stderr",
     "output_type": "stream",
     "text": [
      "/home/osvaldo/proyectos/00_PyMC3/arviz/arviz/stats/stats.py:1185: UserWarning: For one or more samples the posterior variance of the log predictive densities exceeds 0.4. This could be indication of WAIC starting to fail. \n",
      "See http://arxiv.org/abs/1507.04544 for details\n",
      "  \"For one or more samples the posterior variance of the log predictive \"\n"
     ]
    },
    {
     "data": {
      "text/html": [
       "<div>\n",
       "<style scoped>\n",
       "    .dataframe tbody tr th:only-of-type {\n",
       "        vertical-align: middle;\n",
       "    }\n",
       "\n",
       "    .dataframe tbody tr th {\n",
       "        vertical-align: top;\n",
       "    }\n",
       "\n",
       "    .dataframe thead th {\n",
       "        text-align: right;\n",
       "    }\n",
       "</style>\n",
       "<table border=\"1\" class=\"dataframe\">\n",
       "  <thead>\n",
       "    <tr style=\"text-align: right;\">\n",
       "      <th></th>\n",
       "      <th>rank</th>\n",
       "      <th>waic</th>\n",
       "      <th>p_waic</th>\n",
       "      <th>d_waic</th>\n",
       "      <th>weight</th>\n",
       "      <th>se</th>\n",
       "      <th>dse</th>\n",
       "      <th>warning</th>\n",
       "      <th>waic_scale</th>\n",
       "    </tr>\n",
       "  </thead>\n",
       "  <tbody>\n",
       "    <tr>\n",
       "      <th>model_2</th>\n",
       "      <td>0</td>\n",
       "      <td>-15.3749</td>\n",
       "      <td>2.64186</td>\n",
       "      <td>0</td>\n",
       "      <td>0.887329</td>\n",
       "      <td>3.18342</td>\n",
       "      <td>0</td>\n",
       "      <td>True</td>\n",
       "      <td>deviance</td>\n",
       "    </tr>\n",
       "    <tr>\n",
       "      <th>model_1</th>\n",
       "      <td>1</td>\n",
       "      <td>-8.79337</td>\n",
       "      <td>2.10948</td>\n",
       "      <td>6.58151</td>\n",
       "      <td>0.0419469</td>\n",
       "      <td>3.98546</td>\n",
       "      <td>2.03682</td>\n",
       "      <td>True</td>\n",
       "      <td>deviance</td>\n",
       "    </tr>\n",
       "    <tr>\n",
       "      <th>model_0</th>\n",
       "      <td>2</td>\n",
       "      <td>-7.76828</td>\n",
       "      <td>1.7584</td>\n",
       "      <td>7.6066</td>\n",
       "      <td>0.0707243</td>\n",
       "      <td>4.73866</td>\n",
       "      <td>3.9358</td>\n",
       "      <td>False</td>\n",
       "      <td>deviance</td>\n",
       "    </tr>\n",
       "  </tbody>\n",
       "</table>\n",
       "</div>"
      ],
      "text/plain": [
       "        rank     waic   p_waic   d_waic     weight       se      dse warning  \\\n",
       "model_2    0 -15.3749  2.64186        0   0.887329  3.18342        0    True   \n",
       "model_1    1 -8.79337  2.10948  6.58151  0.0419469  3.98546  2.03682    True   \n",
       "model_0    2 -7.76828   1.7584   7.6066  0.0707243  4.73866   3.9358   False   \n",
       "\n",
       "        waic_scale  \n",
       "model_2   deviance  \n",
       "model_1   deviance  \n",
       "model_0   deviance  "
      ]
     },
     "execution_count": 10,
     "metadata": {},
     "output_type": "execute_result"
    }
   ],
   "source": [
    "model_dict = dict(zip(['model_0', 'model_1', 'model_2'], traces))\n",
    "comp = az.compare(model_dict)\n",
    "comp"
   ]
  },
  {
   "cell_type": "markdown",
   "metadata": {
    "slideshow": {
     "slide_type": "slide"
    }
   },
   "source": [
    "## Interpretando la comparasión\n",
    "\n",
    "* rank: orden de lo modelos (ordenado de *mejor* a *peor*)\n",
    "* waic: Los valores de WAIC\n",
    "* p_waic: _Número efectivo_ de parámetros (no hay que tomarselo muy enserio)\n",
    "* d_waic: La diferencia relativa entre los valores de WAIC de cada modelo y el modelo mejor rankeado\n",
    "* weight: Peso relativo (o probabilidad) de cada modelo (dentro de los modelos comparados)\n",
    "* se: error estándar de WAIC\n",
    "* dse: error estándard de las diferencias entre los valores de WAIC de cada modelo y el modelo mejor rankeado\n",
    "* warning: indica si el cómputo de WAIC podría ser poco confiable, se calcula a partir de un valor empírico por lo que debe ser interpretado con cuidado (es más confiable cuado \"ic=loo\")"
   ]
  },
  {
   "cell_type": "code",
   "execution_count": 11,
   "metadata": {
    "slideshow": {
     "slide_type": "slide"
    }
   },
   "outputs": [
    {
     "data": {
      "image/png": "[encoded data removed]",
      "text/plain": [
       "<Figure size 600x300 with 1 Axes>"
      ]
     },
     "metadata": {},
     "output_type": "display_data"
    }
   ],
   "source": [
    "az.plot_compare(comp, insample_dev=False, plot_ic_diff=False);"
   ]
  },
  {
   "cell_type": "code",
   "execution_count": 12,
   "metadata": {},
   "outputs": [],
   "source": [
    "waic_i_2 = az.waic(trace_0, pointwise=True).waic_i"
   ]
  },
  {
   "cell_type": "code",
   "execution_count": 13,
   "metadata": {
    "slideshow": {
     "slide_type": "skip"
    }
   },
   "outputs": [],
   "source": [
    "waic_i_2 = az.waic(trace_2, pointwise=True).waic_i\n",
    "waic_i_1 = az.waic(trace_1, pointwise=True).waic_i"
   ]
  },
  {
   "cell_type": "code",
   "execution_count": 14,
   "metadata": {
    "slideshow": {
     "slide_type": "slide"
    }
   },
   "outputs": [
    {
     "data": {
      "image/png": "[encoded data removed]",
      "text/plain": [
       "<Figure size 720x480 with 1 Axes>"
      ]
     },
     "metadata": {},
     "output_type": "display_data"
    }
   ],
   "source": [
    "plt.plot(d.index, waic_i_2 - waic_i_1, 'C0.')\n",
    "plt.axhline(0, color='k', ls='--')\n",
    "plt.ylabel('Δ WAIC')\n",
    "plt.xlabel('Index');"
   ]
  },
  {
   "cell_type": "markdown",
   "metadata": {
    "slideshow": {
     "slide_type": "slide"
    }
   },
   "source": [
    "## Averaging models\n",
    "\n",
    "* Instead of choosing the best model we can obtaining a meta-model by averaging all models\n",
    "* We can use the weights obtained from `az.compare`\n",
    "* We can use `pm.sample_posterior_predictive_w` to get predictions from the weighted models"
   ]
  },
  {
   "cell_type": "code",
   "execution_count": 15,
   "metadata": {
    "slideshow": {
     "slide_type": "slide"
    }
   },
   "outputs": [
    {
     "data": {
      "text/html": [
       "\n",
       "    <div>\n",
       "        <style>\n",
       "            /* Turns off some styling */\n",
       "            progress {\n",
       "                /* gets rid of default border in Firefox and Opera. */\n",
       "                border: none;\n",
       "                /* Needs to be in here for Safari polyfill so background images work as expected. */\n",
       "                background-size: auto;\n",
       "            }\n",
       "            .progress-bar-interrupted, .progress-bar-interrupted::-webkit-progress-bar {\n",
       "                background: #F44336;\n",
       "            }\n",
       "        </style>\n",
       "      <progress value='1000' class='' max='1000', style='width:300px; height:20px; vertical-align: middle;'></progress>\n",
       "      100.00% [1000/1000 00:01<00:00]\n",
       "    </div>\n",
       "    "
      ],
      "text/plain": [
       "<IPython.core.display.HTML object>"
      ]
     },
     "metadata": {},
     "output_type": "display_data"
    },
    {
     "name": "stderr",
     "output_type": "stream",
     "text": [
      "/home/osvaldo/proyectos/00_PyMC3/pymc3/pymc3/sampling.py:1254: UserWarning: samples parameter is smaller than nchains times ndraws, some draws and/or chains may not be represented in the returned posterior predictive sample\n",
      "  \"samples parameter is smaller than nchains times ndraws, some draws \"\n"
     ]
    }
   ],
   "source": [
    "# weighted predictions\n",
    "ppc_w = pm.sample_posterior_predictive_w(traces, 1000, [model_0, model_1, model_2],\n",
    "                        weights=comp.weight.sort_index(ascending=True))\n",
    "\n",
    "# predictions from model 2\n",
    "ppc_2 = pm.sample_posterior_predictive(trace_2, 1000, model_2,\n",
    "                     progressbar=False)"
   ]
  },
  {
   "cell_type": "code",
   "execution_count": 18,
   "metadata": {
    "scrolled": true,
    "slideshow": {
     "slide_type": "slide"
    }
   },
   "outputs": [
    {
     "data": {
      "image/png": "[encoded data removed]",
      "text/plain": [
       "<Figure size 720x480 with 1 Axes>"
      ]
     },
     "metadata": {},
     "output_type": "display_data"
    }
   ],
   "source": [
    "mean_w = ppc_w['kcal'].mean()\n",
    "hpd_w = az.hpd(ppc_w['kcal']).mean(0)\n",
    "\n",
    "mean = ppc_2['kcal'].mean()\n",
    "hpd = az.hpd(ppc_2['kcal']).mean(0)\n",
    "\n",
    "\n",
    "plt.errorbar(mean, 1, xerr=np.abs([mean - hpd]).T, fmt='o', label='model 2')\n",
    "plt.errorbar(mean_w, 0, xerr=np.abs([mean_w - hpd_w]).T, fmt='o', label='weighted models')\n",
    "\n",
    "plt.yticks([])\n",
    "plt.ylim(-1, 2)\n",
    "plt.xlabel('kcal per g')\n",
    "plt.legend();"
   ]
  },
  {
   "cell_type": "markdown",
   "metadata": {
    "slideshow": {
     "slide_type": "slide"
    }
   },
   "source": [
    "# Bayes factors\n",
    "\n",
    "Let's rewrite Bayes' theorem, making  explicit the dependency of the inference on a given model $M$:\n",
    "\n",
    "$$p(\\theta \\mid y, M_k) = {\\frac {p(y \\mid \\theta, M_k)p(\\theta \\mid M_k)}{p(y \\mid M_k)}}$$\n",
    "\n",
    "The term in the denominator is known as marginal likelihood, the ratio of two maginal likelihoods is known as Bayes Factors:\n",
    "\n",
    "$$BF = \\frac{p(y \\mid M_0)}{p(y \\mid M_1)}$$\n",
    "\n",
    "* when BF > 1, model 0 explains data better than model 1"
   ]
  },
  {
   "cell_type": "markdown",
   "metadata": {
    "slideshow": {
     "slide_type": "slide"
    }
   },
   "source": [
    "* Using $p(y \\mid M_k)$ to compare model is totally fine if all models have the same prior probability\n",
    "\n",
    "* Otherwise, we have to compute the _posterior odds_:\n",
    "\n",
    "$$\\underbrace{\\frac{p(M_0 \\mid y)}{p(M_1 \\mid y)}}_\\text{posterior odds} = \\underbrace{\\frac{p(y \\mid M_0)}{p(y \\mid M_1)}}_\\text{Bayes factors} \\, \\underbrace{\\frac{p(\\ M_0 \\ )}{p(\\ M_1 \\ )}}_\\text{prior odds}$$"
   ]
  },
  {
   "cell_type": "markdown",
   "metadata": {
    "slideshow": {
     "slide_type": "slide"
    }
   },
   "source": [
    "## Some remarks about Bayes Factors\n",
    "\n",
    "\n",
    "$$p(y \\mid M_k) = \\int_{\\theta_k} p(y \\mid \\theta_k, M_k) p(\\theta_k, M_k) d\\theta_k$$\n",
    "\n",
    "\n",
    "* The good: Models with more parameters have a larger penalization than models with fewer parameters. The intuitive reason is that the larger the number of parameters the more _spread_ the prior will be with respect to the likelihood.\n",
    "\n",
    "* The bad: Computing the marginal likelihood is, generally, a hard task because it’s an integral of a highly variable function over a high dimensional parameter space. \n",
    "\n",
    "* The ugly: The marginal likelihood depends *sensitively* on the values of the priors\n",
    "\n",
    "* One relatively simple way to compute BF with PyMC3 is by using the Sequential Monte Carlo sampler"
   ]
  },
  {
   "cell_type": "code",
   "execution_count": 20,
   "metadata": {
    "slideshow": {
     "slide_type": "slide"
    }
   },
   "outputs": [
    {
     "name": "stderr",
     "output_type": "stream",
     "text": [
      "Sample initial stage: ...\n",
      "Stage:   0 Beta: 1.000 Steps:  25 Acce: 1.000\n",
      "Sample initial stage: ...\n",
      "Stage:   0 Beta: 0.211 Steps:  25 Acce: 1.000\n",
      "Stage:   1 Beta: 0.692 Steps:  25 Acce: 0.711\n",
      "Stage:   2 Beta: 1.000 Steps:   3 Acce: 0.571\n"
     ]
    },
    {
     "data": {
      "text/plain": [
       "11.135147862982315"
      ]
     },
     "execution_count": 20,
     "metadata": {},
     "output_type": "execute_result"
    }
   ],
   "source": [
    "coins = 30 # 300\n",
    "heads = 9 # 90\n",
    "y_d = np.repeat([0, 1], [coins-heads, heads])\n",
    "\n",
    "with pm.Model() as model_BF_0:\n",
    "    theta = pm.Beta('theta', 4, 8)\n",
    "    y = pm.Bernoulli('y', theta, observed=y_d)\n",
    "    trace_BF_0 = pm.sample_smc(2500)\n",
    "\n",
    "with pm.Model() as model_BF_1:\n",
    "    theta = pm.Beta('theta', 8, 4)\n",
    "    y = pm.Bernoulli('y', theta, observed=y_d)\n",
    "    trace_BF_1 = pm.sample_smc(2500)\n",
    "    \n",
    "model_BF_0.marginal_likelihood / model_BF_1.marginal_likelihood"
   ]
  },
  {
   "cell_type": "markdown",
   "metadata": {
    "slideshow": {
     "slide_type": "slide"
    }
   },
   "source": [
    "## Information Criteria vs Bayes Factors\n",
    "\n",
    "* Bayes factor are focused on which model is better (and the prior is part of the model)\n",
    "\n",
    "* WAIC (and LOO) are focused on which model will give the better predictions (priors are taken into account indirectly)"
   ]
  },
  {
   "cell_type": "markdown",
   "metadata": {
    "slideshow": {
     "slide_type": "slide"
    }
   },
   "source": [
    "## Exercises\n",
    "\n",
    "1. compute WAIC and BF for models model_BF_0 and model_BF_1. Use (coins = 30, heads=9) and then (coins=300, heads = 90). Compare the differences in terms of WAIC when increasing the data and in terms of BF when increasing the data. "
   ]
  }
 ],
 "metadata": {
  "celltoolbar": "Slideshow",
  "hide_input": false,
  "kernelspec": {
   "display_name": "Python 3",
   "language": "python",
   "name": "python3"
  },
  "language_info": {
   "codemirror_mode": {
    "name": "ipython",
    "version": 3
   },
   "file_extension": ".py",
   "mimetype": "text/x-python",
   "name": "python",
   "nbconvert_exporter": "python",
   "pygments_lexer": "ipython3",
   "version": "3.7.3"
  }
 },
 "nbformat": 4,
 "nbformat_minor": 2
}
