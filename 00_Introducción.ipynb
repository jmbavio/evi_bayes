{
 "cells": [
  {
   "cell_type": "code",
   "execution_count": 1,
   "metadata": {
    "slideshow": {
     "slide_type": "skip"
    }
   },
   "outputs": [],
   "source": [
    "import numpy as np\n",
    "from scipy import stats, special\n",
    "import matplotlib.pyplot as plt\n",
    "import arviz as az\n",
    "import pymc3 as pm\n",
    "\n",
    "from ipywidgets import interact\n",
    "import ipywidgets as ipyw\n",
    "from IPython.display import IFrame"
   ]
  },
  {
   "cell_type": "code",
   "execution_count": 2,
   "metadata": {
    "slideshow": {
     "slide_type": "skip"
    }
   },
   "outputs": [],
   "source": [
    "az.style.use('arviz-darkgrid')"
   ]
  },
  {
   "cell_type": "code",
   "execution_count": 3,
   "metadata": {
    "slideshow": {
     "slide_type": "skip"
    }
   },
   "outputs": [
    {
     "data": {
      "text/html": [
       "<style>\n",
       "\n",
       ".CodeMirror {\n",
       "    width: 100vw;\n",
       "}\n",
       "\n",
       ".container {\n",
       "    width: 99% !important;\n",
       "}\n",
       "\n",
       ".rendered_html {\n",
       "  font-size:0.8em;\n",
       "}\n",
       ".rendered_html table, .rendered_html th, .rendered_html tr, .rendered_html td {\n",
       "     font-size: 100%;\n",
       "}\n",
       "\n",
       "\n",
       "body {\n",
       "  font-family: Ubuntu;\n",
       "  background: #F0F0F0;\n",
       "  background-color: #F0F0F0;\n",
       "}\n",
       "\n",
       "\n",
       ".reveal h1,\n",
       ".reveal h2,\n",
       ".reveal h3,\n",
       ".reveal h4,\n",
       ".reveal h5,\n",
       ".reveal h6 {\n",
       "  margin: 0 0 20px 0;\n",
       "  color: #2a2eec;\n",
       "  font-family: Ubuntu;\n",
       "  line-height: 0.9em;\n",
       "  letter-spacing: 0.02em;\n",
       "  text-transform: none;\n",
       "  text-shadow: none;\n",
       "}\n",
       "\n",
       ".reveal blockquote {\n",
       "  display: block;\n",
       "  position: relative;\n",
       "  background: #fa7c17;\n",
       "  border-radius: 15px;\n",
       "  box-shadow: 0px 0px 2px rgba(0, 0, 0, 0.2);\n",
       "  font-weight: bold;\n",
       "}\n",
       "</style>\n"
      ],
      "text/plain": [
       "<IPython.core.display.HTML object>"
      ]
     },
     "metadata": {},
     "output_type": "display_data"
    }
   ],
   "source": [
    "%%HTML\n",
    "<style>\n",
    "\n",
    ".CodeMirror {\n",
    "    width: 100vw;\n",
    "}\n",
    "\n",
    ".container {\n",
    "    width: 99% !important;\n",
    "}\n",
    "\n",
    ".rendered_html {\n",
    "  font-size:0.8em;\n",
    "}\n",
    ".rendered_html table, .rendered_html th, .rendered_html tr, .rendered_html td {\n",
    "     font-size: 100%;\n",
    "}\n",
    "\n",
    "\n",
    "body {\n",
    "  font-family: Ubuntu;\n",
    "  background: #F0F0F0;\n",
    "  background-color: #F0F0F0;\n",
    "}\n",
    "\n",
    "\n",
    ".reveal h1,\n",
    ".reveal h2,\n",
    ".reveal h3,\n",
    ".reveal h4,\n",
    ".reveal h5,\n",
    ".reveal h6 {\n",
    "  margin: 0 0 20px 0;\n",
    "  color: #2a2eec;\n",
    "  font-family: Ubuntu;\n",
    "  line-height: 0.9em;\n",
    "  letter-spacing: 0.02em;\n",
    "  text-transform: none;\n",
    "  text-shadow: none;\n",
    "}\n",
    "\n",
    ".reveal blockquote {\n",
    "  display: block;\n",
    "  position: relative;\n",
    "  background: #fa7c17;\n",
    "  border-radius: 15px;\n",
    "  box-shadow: 0px 0px 2px rgba(0, 0, 0, 0.2);\n",
    "  font-weight: bold;\n",
    "}\n",
    "</style>"
   ]
  },
  {
   "cell_type": "code",
   "execution_count": 4,
   "metadata": {
    "slideshow": {
     "slide_type": "skip"
    }
   },
   "outputs": [],
   "source": [
    "from traitlets.config.manager import BaseJSONConfigManager\n",
    "path = \"/home/osvaldo/anaconda3/etc/jupyter/nbconfig\"\n",
    "cm = BaseJSONConfigManager(config_dir=path)\n",
    "cm.update(\"livereveal\", {\n",
    "              \"theme\": \"serif\",\n",
    "              \"transition\": \"zoom\",\n",
    "              \"start_slideshow_at\": \"selected\",\n",
    "              \"controls\": \"False\",\n",
    "              \"progress\": \"False\",\n",
    "              \"shortcut\": \"False\",});\n"
   ]
  },
  {
   "cell_type": "markdown",
   "metadata": {
    "slideshow": {
     "slide_type": "slide"
    }
   },
   "source": [
    "<center><img src=\"img/logo_inst.png\" width=\"750\">\n",
    "<br>\n",
    "<br>\n",
    "<br>\n",
    "<br>\n",
    "<h1 align=\"center\">Introducción a la Inferencia Bayesiana</h1>\n",
    "\n",
    "\n",
    "\n",
    "<br>\n",
    "<br>\n",
    "<br>\n",
    "<br>\n",
    "<br>"
   ]
  },
  {
   "cell_type": "markdown",
   "metadata": {
    "slideshow": {
     "slide_type": "slide"
    }
   },
   "source": [
    "## Objetivos\n",
    "\n",
    "* Comprender el teorema de Bayes \n",
    "* Entender las distribuciones a priori, a posteriori y a posteriori predictiva "
   ]
  },
  {
   "cell_type": "markdown",
   "metadata": {
    "slideshow": {
     "slide_type": "slide"
    }
   },
   "source": [
    "## Modelado Bayesiano\n",
    "\n",
    "<br>\n",
    "\n",
    "* La estadística es una forma de modelado \n",
    "\n",
    "* Los modelos estadísticos generan datos\n",
    "\n",
    "* Un modelo Bayesiano tiene dos requisitos:\n",
    "    1. Las cantidades desconocidas (parámeteros) son modeladas usando **distribuciones de probabilidad**\n",
    "    2. Las cantidades conocidas (datos) son combinadas con la **distribución a priori de parámetros** usando el **Teorema de Bayes**"
   ]
  },
  {
   "cell_type": "markdown",
   "metadata": {
    "slideshow": {
     "slide_type": "slide"
    }
   },
   "source": [
    "## Bayesian statistics\n",
    "\n",
    "<br>\n",
    "\n",
    "* Las distribuciones de probabiliad _distribuyen_ probabilidades (credibilidades) entre un cierto conjunto de eventos\n",
    "\n",
    "\n",
    "* La estadística Bayesiana es la re-distribución de probabilidades (credibilidades)"
   ]
  },
  {
   "cell_type": "markdown",
   "metadata": {
    "slideshow": {
     "slide_type": "slide"
    }
   },
   "source": [
    "## Teorema de Bayes\n",
    "\n",
    "<br>\n",
    "\n",
    "$$\\underbrace{p(\\theta \\mid y)}_{a posteriori} = \\frac{\\overbrace{p(y \\mid \\theta)}^{\\text{likelihood/verosimilitud}} \\overbrace{p(\\theta)}^{a priori}}{\\underbrace{\\color{red}{p(y)}}_{\\text{likelihood/verosimilitud marginal}}}$$\n",
    "<br>\n",
    "\n",
    "* $\\theta$ representa los parámetros en nuestros modelos (lo que queremos averiguar o aprender)\n",
    "* $y$ representa los datos\n",
    "\n",
    "\n",
    "* El objeto central de la estadística Bayesiana es la distribución _a posteriori_.\n",
    "\n",
    "\n",
    "* $\\color{red}{p(y) = \\int_{\\theta} p(y \\mid \\theta)p(\\theta) d(\\theta)}$ Generalmente no tiene solución analítica o es muy costosa\n",
    "--> Métodos numéricos al rescate!"
   ]
  },
  {
   "cell_type": "markdown",
   "metadata": {
    "nbpresent": {
     "id": "22d50ce8-b4cd-44d3-955f-f798cc43b6cb"
    },
    "slideshow": {
     "slide_type": "slide"
    }
   },
   "source": [
    "## Estadística Bayesian en 3 pasos (flujo Bayesiano simplificado)\n",
    "\n",
    "<br>\n",
    " \n",
    "\n",
    "1. **Crear un modelo probabilista**. Especificar un modelo de probabilidad que incluya algún tipo de conocimiento previo sobre los parámetros del modelo\n",
    "\n",
    "\n",
    "2. **Condicionar el modelo a los datos observados**. Usando el teorema de Bayes la distribución a priori es actualizada de acuerdo a los datos observados,  obteniendose la distribución _a posteriori_.\n",
    "\n",
    "\n",
    "3. <font color = \"gray\"> **Evaluar el ajuste del modelo a los datos y la sensibilidad de las conclusiones a cambios en los supuestos del modelo.**. </font>"
   ]
  },
  {
   "cell_type": "markdown",
   "metadata": {
    "slideshow": {
     "slide_type": "slide"
    }
   },
   "source": [
    "## Ejemplo de distribución a posteriori\n",
    "\n",
    "Nos regalan una bolsa de M&M's, y nos dicen que la proporción de confites de cada color es la misma, pero no nos dicen de cuántos colores distintos pueden ser los confites. \n",
    "\n",
    "Se trata de estimar   el número $k$ de colores, a partir de la observación de $n$ confites. \n",
    "\n",
    "Supongamos que basándonos en nuestra experiencia cada bolsa puede tener entre 5 y 8 colores con la siguiente distribución de probabilidades \n",
    "\n",
    "   |k    | 5 | 6| 7| 8|\n",
    "   |-----|---|--|--|--|\n",
    "   |$$p(k)$$|$0.1$| $0.3$ | $0.3$ | $0.3$|\n",
    "\t\t"
   ]
  },
  {
   "cell_type": "markdown",
   "metadata": {
    "slideshow": {
     "slide_type": "slide"
    }
   },
   "source": [
    "## Ejemplo de distribución a posteriori\n",
    "\n",
    "Suponemos que hemos observado $x_1=VRV$ (verde, rojo, verde), entonces tenemos. \n",
    "\n",
    "\n",
    "|$$k$$   | $$p(k)$$| $$\\overbrace{p(VBV \\mid k)}^{\\frac{k-1}{k^2}}$$ | $$p(VBV \\mid k) p(k)$$ | $$p(k \\mid VBV)$$|\n",
    "|------|-------|-----------------------------------------------|-------------|----------------|\n",
    "|5     | 0.1   | 0.160                                         | 0.016       | 0.125          |\n",
    "|6     | 0.3   | 0.139                                         | 0.042       | 0.328          |\n",
    "|7     | 0.3   | 0.122                                         | 0.037       | 0.289          |\n",
    "|8     | 0.3   | 0.109                                         | 0.033       | 0.258          |\n",
    "\n",
    "\n",
    "$\\sum_k p(VBV, k) = 0.128$\n",
    "\n",
    "\n",
    "Tomamos otro caramelo y es naranja $x_2=VBVN$, repitiendo  el análisis tenemos"
   ]
  },
  {
   "cell_type": "markdown",
   "metadata": {
    "slideshow": {
     "slide_type": "slide"
    }
   },
   "source": [
    "## Ejemplo de distribución a posteriori\n",
    "\n",
    "Tomamos otro caramelo y es naranja $x_2=VBVN$, repitiendo  el análisis tenemos\n",
    "\n",
    "|$$k$$|$$p(k)$$ |$$\\overbrace{p(VBVN \\mid k)}^{\\frac{(k-1)(k-2)}{k^3}}$$|$$p(VBVN \\mid k) p(k)$$|$$p(k \\mid VBVN)$$|\n",
    "|-----|---------|-------------------------------------------------------|--------------|------------------|\n",
    "|5    | 0.125   | 0.096                                                 | 0.012        |             0.135|\n",
    "|6    | 0.328   | 0.093                                                 | 0.031        |             0.348|\n",
    "|7    | 0.289   | 0.087                                                 | 0.025        |             0.281|\n",
    "|8    | 0.258   | 0.082                                                 | 0.021        |             0.236|\n",
    "      \n",
    "$\\sum_k p(VBVN,k) = 0.089$"
   ]
  },
  {
   "cell_type": "markdown",
   "metadata": {
    "slideshow": {
     "slide_type": "slide"
    }
   },
   "source": [
    "## El problema m\\&m - Hipótesis \n",
    "\n",
    "En 1995 se presentó el M&M azul y cambió la proporción de los colores en cada bolsa. \n",
    "\n",
    "\n",
    "|        |Antes de 1995 |despues de 1995 |\n",
    "|--------|--------------|----------------|\n",
    "|marrón  | 30%          | 13%            |\n",
    "|rojo    | 20%          | 13%            |\n",
    "|amarillo| 20%          | 14%            |\n",
    "|verde   | 10%          | 20%            |\n",
    "|naranja | 10%          | 16%            |\n",
    "|tostado | 10%          |  0%            |\n",
    "|azul    |  0%          | 24%            |\n",
    "\n",
    "\n",
    "Un amigo mío tiene dos bolsas de m\\&m, una de 1994 y otra de 1996. Me da un m\\&m de cada bolsa, uno es amarillo y el otro es verde. ¿Cuál es la probabilidad de que el amarillo provenga de la bolsa de 1994?"
   ]
  },
  {
   "cell_type": "markdown",
   "metadata": {
    "slideshow": {
     "slide_type": "slide"
    }
   },
   "source": [
    "La bolsa 1 es de la que vino el m\\&m amarillo y la bolsa 2 de la que vino el verde. Planteamos las hipótesis  \n",
    "\n",
    "\n",
    "* A: La bolsa 1 es de 1994 (lo que implica que la bolsa 2 es de 1996). \n",
    "* B: La bolsa 1 es de 1996.\n",
    "\n",
    "| |$$p(\\theta)$$ |$$p(y | \\theta)$$ |$$p(y \\mid \\theta) p(\\theta)$$|$$p(\\theta \\mid y)$$|\n",
    "|-|--------------|------------------|------------------------------|--------------------|\n",
    "|A| $0.5$        |$20\\times 20$     |$20\\times 20\\times 0.5=200$ | $\\frac{200}{270} \\approx 0.74$|\n",
    "|B| $0.5$        |$10\\times 14$     |$10\\times 14\\times 0.5=70$ | $\\frac{70}{270} \\approx 0.26$|\n",
    "\n",
    "Observación: Escribimos  $p(y \\mid \\theta)$ en términos de porcentajes, no de probabilidades, pero  no afecta el resultado ya que el factor 10.000 se cancela cuando dividimos por la constante de normalización."
   ]
  },
  {
   "cell_type": "markdown",
   "metadata": {
    "slideshow": {
     "slide_type": "slide"
    }
   },
   "source": [
    "## Ejemplos de distribuciones conjugadas\n",
    "\n",
    "<br>\n",
    "\n",
    "En algunos casos la constante de normalización se puede calcular analíticamente\n",
    "\n",
    "Para ciertos likelihood existe un prior tal que la distribución a posteriori tiene la misma forma funcional que el prior. \n",
    "A estos priors se les llama conjugados (respecto de un likelihood)"
   ]
  },
  {
   "cell_type": "markdown",
   "metadata": {
    "slideshow": {
     "slide_type": "slide"
    }
   },
   "source": [
    "### Modelo beta-binomial (o beta-bernoulli)\n",
    "\n",
    "<br>\n",
    "\n",
    "Sea $\\textbf{y}=(y_1,\\cdots, y_n)$ una m.a.s. de  $\\underbrace{Y \\sim \\textit{Bernoulli}(p)}_{p(\\theta) \\text{ (posterior)} }$.\n",
    "\n",
    "Sea $p\\sim \\underbrace{\\operatorname{Beta}(\\alpha, \\beta)}_{p(\\theta) \\text{ (prior)}}$ con $\\alpha>0$ y $\\beta>0$.  \n",
    "\n",
    "Entonces la distribución a posteriori está dada por:\n",
    "\n",
    "$$\\operatorname{Beta}\\left(\\alpha + \\sum_{i=1}^n x_i, \\hspace{0.3cm}  \\beta +n- \\sum_{i=1}^n x_i\\right)$$ \n"
   ]
  },
  {
   "cell_type": "markdown",
   "metadata": {
    "slideshow": {
     "slide_type": "slide"
    }
   },
   "source": [
    "### Modelo gamma-poisson\n",
    "\n",
    "<br>\n",
    "\n",
    "\n",
    "Sea $\\textbf{y}=(y_1,\\cdots, y_n)$ una m.a.s. de  $Y\\sim \\textit{Poisson}(\\theta)$, $\\theta>0$.\n",
    "\n",
    "Sea $\\theta\\sim \\operatorname{Gamma}(\\alpha, \\beta)$ con $\\alpha>0$ y $\\beta>0$.\n",
    "\n",
    "Entonces la distribución a posteriori está dada por:\n",
    "\n",
    "$$\\operatorname{Gamma}\\left(\\alpha + \\sum_{i=1}^n x_i, \\hspace{0.3cm}  (\\beta^{-1} + n)^{-1}\\right).$$\n",
    "\n"
   ]
  },
  {
   "cell_type": "markdown",
   "metadata": {
    "slideshow": {
     "slide_type": "slide"
    }
   },
   "source": [
    "### Modelo gamma-poisson\n",
    "\n",
    "<br>\n",
    "\n",
    "Sea $\\textbf{y}=(y_1,\\cdots, y_n)$ una m.a.s. de  $Y\\sim \\mathcal{N}(\\theta, \\sigma^2),\\,\\,-\\infty< \\theta<\\infty$, $\\sigma^2$ conocido. \n",
    "\n",
    "Sea $\\theta\\sim\\mathcal{N}(\\mu, \\nu^2)$.\n",
    "\n",
    "\n",
    "Entonces la distribución a posteriori está dada por:\n",
    "\n",
    "\n",
    "$$\\mathcal{N}\\left(\\frac{\\sigma^2}{\\sigma^2+n\\nu^2}\\mu+\\frac{n\\nu^2}{\\sigma^2+n\\nu^2}\\overline{x}, \\hspace{0.3cm} \\frac{\\sigma^2\\nu^2}{\\sigma^2+n\\nu^2}\\right)$$\n"
   ]
  },
  {
   "cell_type": "markdown",
   "metadata": {
    "nbpresent": {
     "id": "1752f282-61fe-42b0-a0c8-31d05f2c8e5a"
    },
    "slideshow": {
     "slide_type": "slide"
    }
   },
   "source": [
    "## The statistics of magical coins\n",
    "\n",
    "<br>\n",
    "\n",
    "* We are going to model tossing a coin\n",
    "    * What is the probability of gastric cancer when taking low-dose of aspirin?\n",
    "    * What is the probability that people will agree on legalizing medical abortion?\n",
    "\n",
    "\n",
    "\n",
    "* Our parameter, $\\theta$, can take values in the interval [0, 1]\n",
    "    * $\\theta = 1 \\implies$ always get heads\n",
    "    * $\\theta = 0 \\implies$ always get tails.\n",
    "\n",
    "\n",
    "* According to Bayes' theorem we need to define a likelihood and a prior:\n",
    "\n",
    "\n",
    "$$p(\\theta \\mid y) \\propto \\underbrace{p(y \\mid \\theta)}_{\\text{?}} \\underbrace{p(\\theta)}_{?}$$\n"
   ]
  },
  {
   "cell_type": "markdown",
   "metadata": {
    "nbpresent": {
     "id": "a6e3c377-8d9e-4396-a5a8-3e0f3926b84d"
    },
    "slideshow": {
     "slide_type": "slide"
    }
   },
   "source": [
    "## The beta-binomial model\n",
    "\n",
    "<br>\n",
    "<br>\n",
    "Mathematical representation\n",
    "$$\n",
    "\\theta \\sim \\operatorname{Beta}(\\alpha, \\beta) \\\\\n",
    "y \\sim \\operatorname{Bin}(n=1, p=\\theta)\n",
    "$$\n",
    "\n",
    "\n",
    "<br>\n",
    "\n",
    "Visual representation\n",
    "<img src=\"img/modelo_1_moneda.png\" width=300>\n",
    "\n",
    "From top to bottom, we first have the prior, then the likelihood, and finally the data. The arrows indicate how the part of the model are related the symbol $\\sim$ indicates the stochastic nature of the variables."
   ]
  },
  {
   "cell_type": "code",
   "execution_count": 5,
   "metadata": {
    "hide_input": true,
    "nbpresent": {
     "id": "75216216-868d-4f0a-ab77-042f673db5c4"
    },
    "slideshow": {
     "slide_type": "slide"
    }
   },
   "outputs": [
    {
     "data": {
      "application/vnd.jupyter.widget-view+json": {
       "model_id": "08c131a90e8f4bb0b7c884d18e954086",
       "version_major": 2,
       "version_minor": 0
      },
      "text/plain": [
       "interactive(children=(FloatSlider(value=2.0, description='α', max=7.0, min=0.5, step=0.5), FloatSlider(value=2…"
      ]
     },
     "metadata": {},
     "output_type": "display_data"
    }
   ],
   "source": [
    "def beta(α, β):\n",
    "    x = np.linspace(0, 1, 130)\n",
    "    beta = stats.beta(α, β)\n",
    "    plt.plot(x, beta.pdf(x))\n",
    "    plt.yticks([])\n",
    "    plt.ylim(0, 6)\n",
    "\n",
    "interact(beta,\n",
    "         α=ipyw.FloatSlider(min=0.5, max=7, step=0.5, value=2),\n",
    "         β=ipyw.FloatSlider(min=0.5, max=7, step=0.5, value=2));"
   ]
  },
  {
   "cell_type": "code",
   "execution_count": 6,
   "metadata": {
    "nbpresent": {
     "id": "8f7f8e91-ae8d-4f01-b29b-0f7e2bb0d8b1"
    },
    "slideshow": {
     "slide_type": "slide"
    }
   },
   "outputs": [
    {
     "data": {
      "application/vnd.jupyter.widget-view+json": {
       "model_id": "3e36b160fd334f90bbfc1f6d5f1f6efa",
       "version_major": 2,
       "version_minor": 0
      },
      "text/plain": [
       "interactive(children=(IntSlider(value=1, description='n', max=10, min=1), FloatSlider(value=0.5, description='…"
      ]
     },
     "metadata": {},
     "output_type": "display_data"
    }
   ],
   "source": [
    "def binomial(n, θ):\n",
    "    bino = stats.binom(\n",
    "        n, θ)\n",
    "    plt.bar(range(n+1), bino.pmf(range(n+1)))\n",
    "    plt.xticks(range(n+1))\n",
    "    plt.ylim(0, 1);\n",
    "\n",
    "interact(binomial, n=ipyw.IntSlider(min=1, max=10, value=1), θ=ipyw.FloatSlider(min=0, max=1, step=0.05, value=0.5));"
   ]
  },
  {
   "cell_type": "markdown",
   "metadata": {
    "nbpresent": {
     "id": "6fe8d8ca-0bf8-47ef-8170-b375eede645a"
    },
    "slideshow": {
     "slide_type": "slide"
    }
   },
   "source": [
    "### The posterior\n",
    "\n",
    "It can be shown that whenever we use a beta distribution as prior and a binomial distribution as likelihood we will obtain a posterior that will be a beta distribution with the following parameters:\n",
    "\n",
    "\n",
    "<br>\n",
    "\n",
    "$$\n",
    "p(\\theta \\mid y) \\propto \\operatorname{Beta}(\\alpha=\\alpha_{prior} + y , \\quad \\beta= \\beta_{prior} + N - y)\n",
    "$$\n",
    "\n",
    "<br>\n",
    "\n",
    "When it is fulfilled that for a certain likelihood the functional form of a prior and that of the a posterior is the same, it is said that the prior is conjugated with the _likelihood_."
   ]
  },
  {
   "cell_type": "code",
   "execution_count": 7,
   "metadata": {
    "hide_input": true,
    "nbpresent": {
     "id": "bf1b519c-69dd-42d5-b637-80ef31d70d7f"
    },
    "scrolled": false,
    "slideshow": {
     "slide_type": "slide"
    }
   },
   "outputs": [
    {
     "data": {
      "image/png": "[encoded data removed]",
      "text/plain": [
       "<Figure size 1000x800 with 10 Axes>"
      ]
     },
     "metadata": {},
     "output_type": "display_data"
    }
   ],
   "source": [
    "plt.figure(figsize=(10, 8))\n",
    "\n",
    "n_trials = [0, 1, 2, 3, 4, 8, 16, 32, 50, 150]\n",
    "data = [0, 1, 1, 1, 1, 4, 6, 9, 13, 48]\n",
    "theta_real = 0.35\n",
    "\n",
    "beta_params = [(1, 1), (0.5, 0.5), (20, 20)]\n",
    "dist = stats.beta\n",
    "x = np.linspace(0, 1, 500)\n",
    "\n",
    "for idx, N in enumerate(n_trials):\n",
    "    if idx == 0:\n",
    "        plt.subplot(4, 3, 2)\n",
    "        plt.xlabel('θ')\n",
    "    else:\n",
    "        plt.subplot(4, 3, idx+3)\n",
    "        plt.xticks([])\n",
    "    y = data[idx]\n",
    "    for (a_prior, b_prior) in beta_params:\n",
    "        p_theta_given_y = dist.pdf(x, a_prior + y, b_prior + N - y)\n",
    "        plt.fill_between(x, 0, p_theta_given_y, alpha=0.7)\n",
    "\n",
    "    plt.axvline(theta_real, ymax=0.3, color='k')\n",
    "    plt.plot(0, 0, label=f'{N:4d} trials\\n{y:4d} heads', alpha=0)\n",
    "    plt.xlim(0, 1)\n",
    "    plt.ylim(0, 12)\n",
    "    plt.legend()\n",
    "    plt.yticks([])\n",
    "plt.tight_layout()"
   ]
  },
  {
   "cell_type": "markdown",
   "metadata": {
    "slideshow": {
     "slide_type": "slide"
    }
   },
   "source": [
    "## Distribución predictiva a posteriori\n",
    "\n",
    "**Conceptualmente**: La distribución de datos predicha ($\\tilde{y}$) de acuerdo al _posterior_\n",
    "\n",
    "\n",
    "**Mathematicmente**\n",
    "\n",
    "$$p(\\tilde{y} \\,|\\, y) = \\int p(\\tilde{y} \\,|\\, \\theta) \\, p(\\theta \\,|\\, y) \\, d\\theta$$\n",
    "\n",
    "Para un modelo  binomial, si estamos interesados en predecir la posibilidad de $r$ éxitos en los $m$ siguientes ensayos:\n",
    "\n",
    "\\begin{eqnarray*}\n",
    "p(\\tilde{y} \\mid y)\n",
    "&=&\\int_0^1 \\left(\\begin{array}{c}\n",
    "                      m \\\\\n",
    "\t\t\t\t\t\t\t\t\t\t\tr\n",
    "\t\t\t\t\t\t\t\t\t\t\t\\end{array}\\right)p^{r}(1-p)^{m-r} p(p \\mid y)dp\\\\\n",
    "\t\t\t\t\t\t\t\t\t\t\t&=&\t\\left(\\begin{array}{c}\n",
    "                      m \\\\\n",
    "\t\t\t\t\t\t\t\t\t\t\tr\n",
    "\t\t\t\t\t\t\t\t\t\t\t\\end{array}\\right) \\frac{\\Gamma(n+\\alpha+\\beta)\\Gamma(r+y+\\alpha)\\Gamma(m-r+n-y-\\beta)}{\\Gamma(\\alpha+y)\\Gamma(n-y+\\beta)\\Gamma(m+n+\\alpha+\\beta)}.\n",
    "\t\t\t\t\t\t\t\t\t\t\\end{eqnarray*}\n",
    "\n",
    "A esta distribución se la conoce como *Beta-Binomial*"
   ]
  },
  {
   "cell_type": "code",
   "execution_count": null,
   "metadata": {},
   "outputs": [],
   "source": []
  },
  {
   "cell_type": "code",
   "execution_count": null,
   "metadata": {},
   "outputs": [],
   "source": []
  }
 ],
 "metadata": {
  "celltoolbar": "Slideshow",
  "hide_input": false,
  "kernelspec": {
   "display_name": "Python 3",
   "language": "python",
   "name": "python3"
  },
  "language_info": {
   "codemirror_mode": {
    "name": "ipython",
    "version": 3
   },
   "file_extension": ".py",
   "mimetype": "text/x-python",
   "name": "python",
   "nbconvert_exporter": "python",
   "pygments_lexer": "ipython3",
   "version": "3.7.3"
  }
 },
 "nbformat": 4,
 "nbformat_minor": 2
}
